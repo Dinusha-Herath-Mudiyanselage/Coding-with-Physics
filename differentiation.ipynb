{
 "cells": [
  {
   "cell_type": "markdown",
   "metadata": {},
   "source": [
    "Differentiating a function is very usefull in Physics . Let's look at a simple python program where we can differentiate a simple given function."
   ]
  },
  {
   "cell_type": "markdown",
   "metadata": {},
   "source": [
    "Let's assume that we have the function : $ y= 3x^2+2x+1$"
   ]
  },
  {
   "cell_type": "markdown",
   "metadata": {},
   "source": [
    "By differentiating the above function with respect to $ y$ we have the expression : $\\frac{dy}{dx}=6x+2$"
   ]
  },
  {
   "cell_type": "markdown",
   "metadata": {},
   "source": [
    "Now let's see how we do this in python"
   ]
  },
  {
   "cell_type": "markdown",
   "metadata": {},
   "source": [
    "-----------------------------------------------------------------------------------------------------------------------------"
   ]
  },
  {
   "cell_type": "markdown",
   "metadata": {},
   "source": [
    "First let's import necessary packages from python. (If you want to learn more about these packages pleases visit https://www.sympy.org/ and https://www.scipy.org/)"
   ]
  },
  {
   "cell_type": "code",
   "execution_count": 1,
   "metadata": {
    "collapsed": true
   },
   "outputs": [],
   "source": [
    "import sympy as sp                             # import sympy package\n",
    "\n",
    "from scipy.misc import derivative              # import derivative function in scipy package"
   ]
  },
  {
   "cell_type": "markdown",
   "metadata": {},
   "source": [
    "There are two methods that we can do this, by using the Sympy package as well as Scipy package. First let's see how we can use the Sympy package to get the derivative of above function"
   ]
  },
  {
   "cell_type": "code",
   "execution_count": 5,
   "metadata": {},
   "outputs": [
    {
     "data": {
      "text/plain": [
       "6*x + 2"
      ]
     },
     "execution_count": 5,
     "metadata": {},
     "output_type": "execute_result"
    }
   ],
   "source": [
    "x = sp.Symbol('x')                            # creating s symbol named x , creating our variable\n",
    "\n",
    "sp.diff (3*x**2+2*x+1)                        # differentiating our expression containing symbol x"
   ]
  },
  {
   "cell_type": "markdown",
   "metadata": {},
   "source": [
    "You can see we get the desired output like that.\n",
    "\n",
    "Next let's see how we can differentiate using Scipy package. In this method we cannot get an analytical expression like above, rather we can get a specific valve at specific x. If we plug $x=2$ to the expression $6x+2$ we get $14$ . This is purely a numerical method. In ealier example it is an anlytical method."
   ]
  },
  {
   "cell_type": "code",
   "execution_count": 6,
   "metadata": {},
   "outputs": [
    {
     "data": {
      "text/plain": [
       "14.0"
      ]
     },
     "execution_count": 6,
     "metadata": {},
     "output_type": "execute_result"
    }
   ],
   "source": [
    "def f(x):\n",
    "    return 3*x**2+2*x+1                       # define the function we want to differentiate\n",
    "\n",
    "derivative (f,2.0)                            # derivate the function and assign the value of x to get a numerical answer"
   ]
  },
  {
   "cell_type": "markdown",
   "metadata": {},
   "source": [
    "You could play with any function you want with this simple diefferntiation claculator using Python"
   ]
  },
  {
   "cell_type": "code",
   "execution_count": null,
   "metadata": {
    "collapsed": true
   },
   "outputs": [],
   "source": []
  }
 ],
 "metadata": {
  "kernelspec": {
   "display_name": "Python 3",
   "language": "python",
   "name": "python3"
  },
  "language_info": {
   "codemirror_mode": {
    "name": "ipython",
    "version": 3
   },
   "file_extension": ".py",
   "mimetype": "text/x-python",
   "name": "python",
   "nbconvert_exporter": "python",
   "pygments_lexer": "ipython3",
   "version": "3.6.3"
  }
 },
 "nbformat": 4,
 "nbformat_minor": 2
}
